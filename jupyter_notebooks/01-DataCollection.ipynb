{
  "cells": [
    {
      "cell_type": "markdown",
      "metadata": {
        "id": "0aStgWSO0E0E"
      },
      "source": [
        "# **Data Collection Notebook**"
      ]
    },
    {
      "cell_type": "markdown",
      "metadata": {
        "id": "1eLEkw5O0ECa"
      },
      "source": [
        "## Objectives\n",
        "\n",
        "* Fetch data from Kaggle and save it as raw data.\n",
        "* Inspect the data and save it under outputs/datasets/collection\n",
        "* Push the files to the github repository.\n",
        "\n",
        "## Inputs\n",
        "\n",
        "* Kaggle JSON file - the authentication token.\n",
        "* Downloaded the Student Performance Data Set by Data-Science Sean on Kaggle.\n",
        "\n",
        "## Outputs\n",
        "\n",
        "* The Kaggle files were unzipped to:\n",
        "    - inputs/datasets/raw/\n",
        "    - inputs/datasets/raw/\n",
        "\n",
        "## Additional Comments\n",
        "\n",
        "* This notebook was written based on the guidelines provided in the walkthrough project 2: 'Churnometer'.\n",
        "* This notebook relates to the Data Understanding step of Crisp-DM methodology.\n",
        "* This notebook and the following will represent the learning outcome after following the Code Institute - Predictive Analytics and Machine Learning module.\n"
      ]
    },
    {
      "cell_type": "markdown",
      "metadata": {
        "id": "9uWZXH9LwoQg"
      },
      "source": [
        "---"
      ]
    },
    {
      "cell_type": "markdown",
      "metadata": {
        "id": "cqP-UeN-z3i2"
      },
      "source": [
        "# Change working directory"
      ]
    },
    {
      "cell_type": "markdown",
      "metadata": {},
      "source": [
        "The following action will change the working directory from its current folder to its parent folder."
      ]
    },
    {
      "cell_type": "markdown",
      "metadata": {
        "id": "aOGIGS-uz3i2"
      },
      "source": [
        "We need to change the working directory from its current folder to its parent folder\n",
        "* We access the current directory with os.getcwd()"
      ]
    },
    {
      "cell_type": "code",
      "execution_count": null,
      "metadata": {
        "id": "wZfF_j-Bz3i4",
        "outputId": "66943449-1436-4c3d-85c7-b85f9f78349b"
      },
      "outputs": [],
      "source": [
        "import os\n",
        "current_dir = os.getcwd()\n",
        "current_dir"
      ]
    },
    {
      "cell_type": "markdown",
      "metadata": {
        "id": "9MWW8E7lz3i7"
      },
      "source": [
        "We want to make the parent of the current directory the new current directory\n",
        "* os.path.dirname() gets the parent directory\n",
        "* os.chir() defines the new current directory"
      ]
    },
    {
      "cell_type": "code",
      "execution_count": null,
      "metadata": {
        "id": "TwHsQRWjz3i9",
        "outputId": "86849db3-cd2f-4cc5-ebb8-2d0caafa1a2c"
      },
      "outputs": [],
      "source": [
        "os.chdir(os.path.dirname(current_dir))\n",
        "print(\"You set a new current directory\")"
      ]
    },
    {
      "cell_type": "markdown",
      "metadata": {
        "id": "M_xPk_Ijz3i-"
      },
      "source": [
        "Confirm the new current directory"
      ]
    },
    {
      "cell_type": "code",
      "execution_count": null,
      "metadata": {
        "id": "vz3S-_kjz3jA",
        "outputId": "00b79ae4-75d0-4a96-d193-ac9ef9847ea2"
      },
      "outputs": [],
      "source": [
        "current_dir = os.getcwd()\n",
        "current_dir"
      ]
    },
    {
      "cell_type": "markdown",
      "metadata": {
        "id": "-mavJ8DibrcQ"
      },
      "source": [
        "# Fetch data from Kaggle\n"
      ]
    },
    {
      "cell_type": "markdown",
      "metadata": {},
      "source": [
        "Install Kaggle library with the below command:"
      ]
    },
    {
      "cell_type": "code",
      "execution_count": null,
      "metadata": {},
      "outputs": [],
      "source": [
        "! pip install kaggle"
      ]
    },
    {
      "cell_type": "markdown",
      "metadata": {},
      "source": [
        "* A kaggle account will be required at this point as if the user is doesn't have an account Kaggle will not allow the usage of data.\n",
        "    - If an account has been created, then the user can download a kaggle.json file.\n",
        "* The Kaggle.json file contains an authentication token, which is required in order to authenticate a data download from Kaggle.\n",
        "* The Kaggle.json token file must then be copied to the root directory of the project repository.\n",
        "* Next, the user must set the Kaggle environment variable and set permission to the toke file to read write for the user."
      ]
    },
    {
      "cell_type": "code",
      "execution_count": null,
      "metadata": {},
      "outputs": [],
      "source": [
        "import os\n",
        "os.environ['KAGGLE_CONFIG_DIR'] = os.getcwd()\n",
        "! chmod 600 kaggle.json"
      ]
    },
    {
      "cell_type": "markdown",
      "metadata": {},
      "source": [
        "We are using the following dataset - [Student Academic Performance Dataset](https://www.kaggle.com/datasets/larsen0966/student-performance-data-set)"
      ]
    },
    {
      "cell_type": "markdown",
      "metadata": {},
      "source": [
        "* Get the dataset path from the kaggle url.\n"
      ]
    },
    {
      "cell_type": "code",
      "execution_count": null,
      "metadata": {},
      "outputs": [],
      "source": [
        "KaggleDatasetPath = \"larsen0966/student-performance-data-set\"\n",
        "DestinationFolder = \"inputs/datasets/raw\"   \n",
        "! kaggle datasets download -d {KaggleDatasetPath} -p {DestinationFolder}"
      ]
    },
    {
      "cell_type": "markdown",
      "metadata": {},
      "source": [
        "* The dataset has been downloaded into a zip file which will need to be unzipped to be used.\n"
      ]
    },
    {
      "cell_type": "code",
      "execution_count": null,
      "metadata": {},
      "outputs": [],
      "source": [
        "! unzip {DestinationFolder}/*.zip -d {DestinationFolder} \\\n",
        "    && rm {DestinationFolder}/*.zip \\\n",
        "    && rm kaggle.json"
      ]
    },
    {
      "cell_type": "markdown",
      "metadata": {
        "id": "ZY3l0-AxO93d"
      },
      "source": [
        "---"
      ]
    },
    {
      "cell_type": "markdown",
      "metadata": {
        "id": "uFQo3ycuO-v6"
      },
      "source": [
        "# Load and Inspect Kaggle Data"
      ]
    },
    {
      "cell_type": "code",
      "execution_count": null,
      "metadata": {},
      "outputs": [],
      "source": [
        "import pandas as pd\n",
        "df = pd.read_csv(f\"inputs/datasets/raw/student-por.csv\")\n",
        "df.head()"
      ]
    },
    {
      "cell_type": "code",
      "execution_count": null,
      "metadata": {},
      "outputs": [],
      "source": [
        "df.info()"
      ]
    },
    {
      "cell_type": "markdown",
      "metadata": {},
      "source": [
        "* **Abbreviations explained:**"
      ]
    },
    {
      "cell_type": "markdown",
      "metadata": {},
      "source": [
        "1. **school** - \n",
        "    student's school (binary: 'GP' - Gabriel Pereira or 'MS' - Mousinho da Silveira)\n",
        "\n",
        "2. **sex** -\n",
        "    student's sex (binary: 'F' - female or 'M' - male)\n",
        "\n",
        "3. **age** -\n",
        "    student's age (numeric: from 15 to 22)\n",
        "\n",
        "4. **address** -\n",
        "    student's home address type (binary: 'U' - urban or 'R' - rural)\n",
        "\n",
        "5. **famsize** -\n",
        "    family size (binary: 'LE3' - less or equal to 3 or 'GT3' - greater than 3)\n",
        "\n",
        "6. **Pstatus** -\n",
        "parent's cohabitation status (binary: 'T' - living together or 'A' - apart)\n",
        "\n",
        "1. **Medu** - mother's education (numeric: 0 = none, 1 = primary education (4th grade), 2 = 5th to 9th grade, 3 = secondary education or 4 = higher education)\n",
        "\n",
        "2. **Fedu** -\n",
        "father's education (numeric: 0 = none, 1 = primary education (4th grade), 2 = 5th to 9th grade, 3 = secondary education or 4 = higher education)\n",
        "\n",
        "1. **Mjob** -\n",
        "mother's job (nominal: 'teacher', 'health' care related, civil 'services' (e.g. administrative or police), 'at_home' or 'other')\n",
        "\n",
        "1.  **Fjob** -\n",
        "father's job (nominal: 'teacher', 'health' care related, civil 'services' (e.g. administrative or police), 'at_home' or 'other')\n",
        "\n",
        "11.  **reason** -\n",
        "reason to choose this school (nominal: close to 'home', school 'reputation', 'course' preference or 'other')\n",
        "\n",
        "1.   **guardian** -\n",
        "student's guardian (nominal: 'mother', 'father' or 'other')\n",
        "\n",
        "1.   **traveltime** -\n",
        "home to school travel time (numeric: 1 - <15 min., 2 - 15 to 30 min., 3 - 30 min. to 1 hour, or 4 - >1 hour)\n",
        "\n",
        "1.   **studytime** -\n",
        "weekly study time (numeric: 1 - <2 hours, 2 - 2 to 5 hours, 3 - 5 to 10 hours, or 4 - >10 hours)\n",
        "\n",
        "1.   **failures** -\n",
        "number of past class failures (numeric: n if 1<=n<3, else 4)\n",
        "\n",
        "16.  **schoolsup** -\n",
        "extra educational support (binary: yes or no)\n",
        "\n",
        "17.  **famsup** -\n",
        "family educational support (binary: yes or no)\n",
        "\n",
        "1.   **paid** -\n",
        "extra paid classes within the course subject (Math or Portuguese) (binary: yes or no)\n",
        "\n",
        "1.   **activities** -\n",
        "extra-curricular activities (binary: yes or no)\n",
        "\n",
        "1.   **nursery** -\n",
        "attended nursery school (binary: yes or no)\n",
        "\n",
        "1.   **higher** -\n",
        "wants to take higher education (binary: yes or no)\n",
        "\n",
        "1.   **internet** -\n",
        "Internet access at home (binary: yes or no)\n",
        "\n",
        "1.   **romantic** -\n",
        "with a romantic relationship (binary: yes or no)\n",
        "\n",
        "1.   **famrel** -\n",
        "quality of family relationships (numeric: from 1 - very bad to 5 - excellent)\n",
        "\n",
        "1.   **freetime** -\n",
        "free time after school (numeric: from 1 - very low to 5 - very high)\n",
        "\n",
        "1.   **goout** -\n",
        "going out with friends (numeric: from 1 - very low to 5 - very high)\n",
        "\n",
        "1.   **Dalc** -\n",
        "workday alcohol consumption (numeric: from 1 - very low to 5 - very high)\n",
        "\n",
        "1.   **Walc** -\n",
        "weekend alcohol consumption (numeric: from 1 - very low to 5 - very high)\n",
        "\n",
        "1.   **health** -\n",
        "current health status (numeric: from 1 - very bad to 5 - very good)\n",
        "\n",
        "1.   **absences** -\n",
        "number of school absences (numeric: from 0 to 93)\n",
        "\n",
        "1.   **G1** -\n",
        "first period grade (numeric: from 0 to 20)\n",
        "\n",
        "1.   **G2** -\n",
        "second period grade (numeric: from 0 to 20)\n",
        "\n",
        "1.   **G3** -\n",
        "final grade (numeric: from 0 to 20, output target)"
      ]
    },
    {
      "cell_type": "markdown",
      "metadata": {},
      "source": [
        "---"
      ]
    },
    {
      "cell_type": "markdown",
      "metadata": {
        "id": "ltNetd085qHf"
      },
      "source": [
        "# Push files to Repo"
      ]
    },
    {
      "cell_type": "code",
      "execution_count": null,
      "metadata": {
        "id": "aKlnIozA4eQO",
        "outputId": "fd09bc1f-adb1-4511-f6ce-492a6af570c0"
      },
      "outputs": [],
      "source": [
        "import os\n",
        "try:\n",
        "  os.makedirs(name='outputs/datasets/collection') # create outputs/datasets/collection folder\n",
        "except Exception as e:\n",
        "  print(e)\n",
        "\n",
        "df.to_csv(f\"outputs/datasets/collection/student-por.csv\",index=False)"
      ]
    }
  ],
  "metadata": {
    "accelerator": "GPU",
    "colab": {
      "name": "Data Practitioner Jupyter Notebook.ipynb",
      "provenance": [],
      "toc_visible": true
    },
    "kernelspec": {
      "display_name": "3.12.1",
      "language": "python",
      "name": "python3"
    },
    "language_info": {
      "codemirror_mode": {
        "name": "ipython",
        "version": 3
      },
      "file_extension": ".py",
      "mimetype": "text/x-python",
      "name": "python",
      "nbconvert_exporter": "python",
      "pygments_lexer": "ipython3",
      "version": "3.12.1"
    },
    "orig_nbformat": 2
  },
  "nbformat": 4,
  "nbformat_minor": 2
}
